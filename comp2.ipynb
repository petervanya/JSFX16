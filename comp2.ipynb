{
 "cells": [
  {
   "cell_type": "markdown",
   "metadata": {},
   "source": [
    "# Comp 2\n",
    "\n",
    "Peter Vanya\n",
    "\n",
    "Jarná škola FX, marec 2016\n",
    "\n",
    "## Program na dnes\n",
    "\n",
    "* Matematické operácie, vektory a matice. Hľadanie vlastných čísel. \n",
    "* Prvé zoznámenie sa s knižnicami `numpy` a `matplotlib`"
   ]
  },
  {
   "cell_type": "code",
   "execution_count": 8,
   "metadata": {
    "collapsed": false
   },
   "outputs": [],
   "source": [
    "# najskor nacitame kniznice\n",
    "# toto je vseobecne zauzivana konvencia, nemente ju!\n",
    "import numpy as np\n",
    "import matplotlib.pyplot as plt\n",
    "%matplotlib inline"
   ]
  },
  {
   "cell_type": "markdown",
   "metadata": {},
   "source": [
    "## Vektory"
   ]
  },
  {
   "cell_type": "code",
   "execution_count": 9,
   "metadata": {
    "collapsed": false
   },
   "outputs": [
    {
     "name": "stdout",
     "output_type": "stream",
     "text": [
      "[1 2 3]\n",
      "[3 5 7]\n"
     ]
    }
   ],
   "source": [
    "a = np.array([1,2,3])\n",
    "print(a)\n",
    "type(a)\n",
    "\n",
    "b = np.array([2,3,4])\n",
    "print(a + b)    # spravne scitanie!"
   ]
  },
  {
   "cell_type": "code",
   "execution_count": 4,
   "metadata": {
    "collapsed": false
   },
   "outputs": [
    {
     "data": {
      "text/plain": [
       "20"
      ]
     },
     "execution_count": 4,
     "metadata": {},
     "output_type": "execute_result"
    }
   ],
   "source": [
    "np.dot(a, b)    # skalarny sucin"
   ]
  },
  {
   "cell_type": "code",
   "execution_count": 5,
   "metadata": {
    "collapsed": false
   },
   "outputs": [
    {
     "data": {
      "text/plain": [
       "array([-1,  2, -1])"
      ]
     },
     "execution_count": 5,
     "metadata": {},
     "output_type": "execute_result"
    }
   ],
   "source": [
    "np.cross(a, b)  # vektorovy sucin"
   ]
  },
  {
   "cell_type": "code",
   "execution_count": 7,
   "metadata": {
    "collapsed": false
   },
   "outputs": [
    {
     "data": {
      "text/plain": [
       "array([[ 2,  3,  4],\n",
       "       [ 4,  6,  8],\n",
       "       [ 6,  9, 12]])"
      ]
     },
     "execution_count": 7,
     "metadata": {},
     "output_type": "execute_result"
    }
   ],
   "source": [
    "np.outer(a, b)  # outer product, premyslite si"
   ]
  },
  {
   "cell_type": "markdown",
   "metadata": {},
   "source": [
    "## Matice"
   ]
  },
  {
   "cell_type": "code",
   "execution_count": 107,
   "metadata": {
    "collapsed": false
   },
   "outputs": [
    {
     "name": "stdout",
     "output_type": "stream",
     "text": [
      "[[0 1]\n",
      " [1 0]]\n"
     ]
    },
    {
     "data": {
      "text/plain": [
       "numpy.ndarray"
      ]
     },
     "execution_count": 107,
     "metadata": {},
     "output_type": "execute_result"
    }
   ],
   "source": [
    "A = np.array([[0,1], [1,0]])\n",
    "print(A)\n",
    "type(A)"
   ]
  },
  {
   "cell_type": "code",
   "execution_count": 23,
   "metadata": {
    "collapsed": false
   },
   "outputs": [
    {
     "data": {
      "text/plain": [
       "numpy.matrixlib.defmatrix.matrix"
      ]
     },
     "execution_count": 23,
     "metadata": {},
     "output_type": "execute_result"
    }
   ],
   "source": [
    "AA = np.matrix(A)   # premena na iny datovy typ\n",
    "type(AA)"
   ]
  },
  {
   "cell_type": "code",
   "execution_count": 108,
   "metadata": {
    "collapsed": false
   },
   "outputs": [
    {
     "name": "stdout",
     "output_type": "stream",
     "text": [
      "[[ 1  0]\n",
      " [ 0 -1]]\n"
     ]
    }
   ],
   "source": [
    "B = np.array([[1, 0], [0, -1]])\n",
    "print(B)"
   ]
  },
  {
   "cell_type": "code",
   "execution_count": 28,
   "metadata": {
    "collapsed": false
   },
   "outputs": [
    {
     "name": "stdout",
     "output_type": "stream",
     "text": [
      "[[ 0 -1]\n",
      " [ 1  0]]\n",
      "[[0 0]\n",
      " [0 0]]\n"
     ]
    }
   ],
   "source": [
    "C = np.dot(A, B)\n",
    "print(C)\n",
    "# pozor!\n",
    "print(A*B)"
   ]
  },
  {
   "cell_type": "code",
   "execution_count": 30,
   "metadata": {
    "collapsed": false
   },
   "outputs": [
    {
     "name": "stdout",
     "output_type": "stream",
     "text": [
      "2\n",
      "(2, 2)\n"
     ]
    }
   ],
   "source": [
    "# Vlastnosti matic\n",
    "print(len(A))\n",
    "print(A.shape)"
   ]
  },
  {
   "cell_type": "code",
   "execution_count": 42,
   "metadata": {
    "collapsed": false
   },
   "outputs": [
    {
     "name": "stdout",
     "output_type": "stream",
     "text": [
      "[ 1.  1.  1.] \n",
      "\n",
      "[[ 1.  1.  1.]\n",
      " [ 1.  1.  1.]\n",
      " [ 1.  1.  1.]] \n",
      "\n",
      "[[ 1.  0.  0.]\n",
      " [ 0.  1.  0.]\n",
      " [ 0.  0.  1.]]\n"
     ]
    }
   ],
   "source": [
    "# uzitocne vektory/matice, konvencia z Matlabu\n",
    "N = 3\n",
    "print(np.ones(N), \"\\n\")      # konstantny vektor\n",
    "print(np.ones((N, N)), \"\\n\") # \n",
    "print(np.eye(N))             # identita"
   ]
  },
  {
   "cell_type": "markdown",
   "metadata": {},
   "source": [
    "## Generovanie (pseudo)náhodných čísel"
   ]
  },
  {
   "cell_type": "code",
   "execution_count": 92,
   "metadata": {
    "collapsed": false
   },
   "outputs": [
    {
     "name": "stdout",
     "output_type": "stream",
     "text": [
      "[ 0.77132064  0.02075195  0.63364823  0.74880388  0.49850701] \n",
      "\n",
      "[[ 0.22479665  0.19806286  0.76053071  0.16911084  0.08833981]\n",
      " [ 0.68535982  0.95339335  0.00394827  0.51219226  0.81262096]\n",
      " [ 0.61252607  0.72175532  0.29187607  0.91777412  0.71457578]\n",
      " [ 0.54254437  0.14217005  0.37334076  0.67413362  0.44183317]\n",
      " [ 0.43401399  0.61776698  0.51313824  0.65039718  0.60103895]]\n"
     ]
    }
   ],
   "source": [
    "# cisla sa menie, pokial nefixneme seed!\n",
    "np.random.seed(10)\n",
    "\n",
    "N = 5\n",
    "a = np.random.rand(N)   # v intervale [0,1]\n",
    "A = np.random.rand(N, N)\n",
    "print(a, \"\\n\")\n",
    "print(A)"
   ]
  },
  {
   "cell_type": "code",
   "execution_count": 94,
   "metadata": {
    "collapsed": false
   },
   "outputs": [
    {
     "name": "stdout",
     "output_type": "stream",
     "text": [
      "[ 0.59145309  0.22781736  0.24917866  0.09576324  0.44902173]\n"
     ]
    },
    {
     "data": {
      "image/png": "[encoded data removed]",
      "text/plain": [
       "<matplotlib.figure.Figure at 0x7ff38895be10>"
      ]
     },
     "metadata": {},
     "output_type": "display_data"
    }
   ],
   "source": [
    "a = np.random.randn(N)      # gaussovske cisla\n",
    "print(a)\n",
    "\n",
    "mu, sigma = 1.0, 2.0\n",
    "a = np.random.randn(200)*sigma + mu\n",
    "plt.hist(a)\n",
    "plt.show()"
   ]
  },
  {
   "cell_type": "code",
   "execution_count": 65,
   "metadata": {
    "collapsed": false
   },
   "outputs": [
    {
     "name": "stdout",
     "output_type": "stream",
     "text": [
      "[9 1 5 9 1 4 7 7 7 9]\n"
     ]
    }
   ],
   "source": [
    "a = np.random.randint(10, size=10)   # cele cisla, pozor na size!\n",
    "print(a)"
   ]
  },
  {
   "cell_type": "markdown",
   "metadata": {},
   "source": [
    "## Vlastné čísla"
   ]
  },
  {
   "cell_type": "code",
   "execution_count": 95,
   "metadata": {
    "collapsed": true
   },
   "outputs": [],
   "source": [
    "from numpy.linalg import eig"
   ]
  },
  {
   "cell_type": "code",
   "execution_count": 106,
   "metadata": {
    "collapsed": false
   },
   "outputs": [
    {
     "name": "stdout",
     "output_type": "stream",
     "text": [
      "[ 10.12190419   1.17543994  -1.14417945  -1.14417945  -0.22964993\n",
      "  -0.22964993  -0.57292715  -0.57292715   0.06916606   0.06916606\n",
      "   0.69242998   0.5556021    0.5556021    0.2700016    0.2700016\n",
      "   0.14652648   0.14652648  -0.62684565  -0.62684565  -0.5253824 ]\n"
     ]
    }
   ],
   "source": [
    "N = 20\n",
    "A = np.random.rand(N, N)\n",
    "vals, vecs = eig(A)\n",
    "print(vals.real)"
   ]
  },
  {
   "cell_type": "markdown",
   "metadata": {},
   "source": [
    "## Pozn\n",
    "\n",
    "Okrem toho existujú funkcie na vlastné čísla symetrických alebo hermitovských matíc `eigs` a `eigh`.\n",
    "\n",
    "## Problem\n",
    "TO FILL"
   ]
  },
  {
   "cell_type": "markdown",
   "metadata": {},
   "source": [
    "## Matematické funkcie"
   ]
  },
  {
   "cell_type": "code",
   "execution_count": 3,
   "metadata": {
    "collapsed": false
   },
   "outputs": [
    {
     "name": "stdout",
     "output_type": "stream",
     "text": [
      "dict_keys(['atan', '__spec__', 'copysign', 'asinh', 'trunc', 'hypot', 'erfc', 'log2', 'sin', 'acos', 'fmod', 'factorial', 'gamma', 'sinh', 'log10', '__name__', 'atan2', 'atanh', 'ceil', 'fabs', 'cosh', 'isnan', 'asin', 'expm1', 'fsum', 'log', 'acosh', 'frexp', 'modf', 'isfinite', 'pi', '__loader__', 'cos', 'erf', 'radians', 'tanh', 'log1p', '__doc__', 'degrees', '__package__', 'exp', 'tan', 'floor', 'isinf', 'ldexp', 'pow', 'e', 'lgamma', 'sqrt'])\n"
     ]
    }
   ],
   "source": [
    "import math\n",
    "print(math.__dict__.keys())"
   ]
  },
  {
   "cell_type": "code",
   "execution_count": 4,
   "metadata": {
    "collapsed": false
   },
   "outputs": [
    {
     "data": {
      "text/plain": [
       "3.141592653589793"
      ]
     },
     "execution_count": 4,
     "metadata": {},
     "output_type": "execute_result"
    }
   ],
   "source": [
    "math.pi"
   ]
  },
  {
   "cell_type": "code",
   "execution_count": 5,
   "metadata": {
    "collapsed": false
   },
   "outputs": [
    {
     "data": {
      "text/plain": [
       "<function math.cos>"
      ]
     },
     "execution_count": 5,
     "metadata": {},
     "output_type": "execute_result"
    }
   ],
   "source": [
    "math.cos"
   ]
  },
  {
   "cell_type": "code",
   "execution_count": 18,
   "metadata": {
    "collapsed": false
   },
   "outputs": [
    {
     "data": {
      "image/png": "[encoded data removed]",
      "text/plain": [
       "<matplotlib.figure.Figure at 0x7fa28f4473c8>"
      ]
     },
     "metadata": {},
     "output_type": "display_data"
    }
   ],
   "source": [
    "import matplotlib\n",
    "matplotlib.rcParams.update({'font.size': 16})\n",
    "\n",
    "x = np.linspace(0, 2*math.pi, 100)\n",
    "y = np.sin(x)\n",
    "plt.plot(x, y)\n",
    "plt.xlabel(\"$x$\")\n",
    "plt.ylabel(\"$\\sin(x)$\")\n",
    "plt.xlim([0, 2*math.pi])\n",
    "plt.show()"
   ]
  },
  {
   "cell_type": "markdown",
   "metadata": {},
   "source": [
    "## Pár slov k štylistike\n",
    "Python má svoje štylistické štandardy PEP 8, ktoré odporúčam dodržiavať. Podľa miery dodržiavania sa určuje \"krása\" (a čitateľnost) kódu.\n",
    "\n",
    "* odsadzovanie for cyklov a funkcií o štyri medzery\n",
    "* za čiarkou nasleduje medzera\n",
    "* medzi \"=\" je medzera, (napr. `a = 2`), ale nie vo funkcii (napr. `def (a, b=5)`)\n",
    "* názvy funkcií malými písmenami, slová oddeľujeme podtržníkom (napr. `calc_evals(A)`), názvy objektov veľkými písmenami (pre expertov)"
   ]
  },
  {
   "cell_type": "code",
   "execution_count": null,
   "metadata": {
    "collapsed": true
   },
   "outputs": [],
   "source": []
  }
 ],
 "metadata": {
  "kernelspec": {
   "display_name": "Python 3",
   "language": "python",
   "name": "python3"
  },
  "language_info": {
   "codemirror_mode": {
    "name": "ipython",
    "version": 3
   },
   "file_extension": ".py",
   "mimetype": "text/x-python",
   "name": "python",
   "nbconvert_exporter": "python",
   "pygments_lexer": "ipython3",
   "version": "3.4.3"
  }
 },
 "nbformat": 4,
 "nbformat_minor": 0
}
