{
 "cells": [
  {
   "cell_type": "markdown",
   "metadata": {},
   "source": [
    "# Comp 1\n",
    "\n",
    "Peter Vanya\n",
    "\n",
    "Jarná škola FX, marec 2016\n",
    "\n",
    "Programovanie posúva teóriu bližšie k experimentom tam, kde teória zlyháva (skoro všade, analyticky riešiteľných problémov je veľmi málo). Keďže v škole (strednej alebo vysokej) sa programovanie moc neučí, prinášame ho vám my.\n",
    "\n",
    "## Ideme sa učiť Python\n",
    "V tomto kurze sa naučíme základy programovania v jazyku Python (názov odvodený od *Monty Python* nie toho hada), konkrétne verzie 3 (okrem toho sa ešte používa verzia 2). \n",
    "\n",
    "### Výhody\n",
    "Na rozdiel od prastarých jazykov ako Pascal a C, výhody Pythonu sú nasledovné:\n",
    "\n",
    "* general-purpose, použiva sa na weby ako aj high-performance computing (= vo vede)\n",
    "* netreba ho kompilovať, stačí len písať kód a stláčať enter\n",
    "* ľahko v ňom možno zadefinovať pre vedu užitočné koncepty ako vektory a matice (príp. tenzory vyššieho rádu), a obsahuje obrovské množsvo algoritmov na diferenciálne rovnice, Fourierove transformácie, alebo prakticky hocičo dôležité\n",
    "* je príjemný na čítanie a písanie\n",
    "* vynikajúca dokumentácia ([docs.python.org](http://docs.python.org) alebo Stack Overflow)\n",
    "\n",
    "### Nevýhody\n",
    "V porovnaní s C++ a Fortranom je pomalý. To sa ale dá napraviť rôznymi spôsobmi zlepšiť \n",
    "* integrovaním kód Fortranu pre časovo náročné výpočty (vysvetľovať nebudem, v prípade záujmu sa ma spýtajte osobne)\n",
    "* použitím knižinice [Numba](http://numba.pydata.org) Ako? (*Numba works by generating optimized machine code using the LLVM compiler infrastructure at import time, runtime, or statically (using the included pycc tool). Numba supports compilation of Python to run on either CPU or GPU hardware, and is designed to integrate with the Python scientific software stack.*)\n",
    "\n",
    "## Čo ešte sa naučíme\n",
    "V obmedzenej miere, ale predsa budete mať šancu zoznámiť sa s nasledovnými konceptami:\n",
    "* git, version control system\n",
    "* IPython notebook, po novom Jupyter (Julia, Python, R, tri programovacie jazyky budúcnosti). To, na čo sa práve pozeráte\n",
    "\n",
    "## Osnova\n",
    "1. Základy: premenné, for cyklus, užitočné koncepty v Pythone\n",
    "2. Matematické operácie: vektory, matice, skalárne a vektorové súčiny\n",
    "3. Input/output: načítavanie zo a písanie do súborov\n",
    "\n",
    "## Ako sa efektívne učiť\n",
    "TO FILL\n",
    "\n",
    "Poďme na to!"
   ]
  },
  {
   "cell_type": "markdown",
   "metadata": {},
   "source": [
    "## Premenné"
   ]
  },
  {
   "cell_type": "code",
   "execution_count": 70,
   "metadata": {
    "collapsed": false
   },
   "outputs": [
    {
     "name": "stdout",
     "output_type": "stream",
     "text": [
      "5\n",
      "2.5\n",
      "2\n",
      "1\n"
     ]
    }
   ],
   "source": [
    "# toto je komentar, pre istotu nepiseme s diakritikou\n",
    "# pre vyhodnotenie bunky stlacte Shift+Enter\n",
    "a = 5\n",
    "type(a)\n",
    "print(a)    # vsimnite si zatvorky okolo! Novinka v Python3\n",
    "print(a/2)\n",
    "print(a//2) # celociselne delenie\n",
    "print(a%2)  # zvysok po deleni"
   ]
  },
  {
   "cell_type": "code",
   "execution_count": 5,
   "metadata": {
    "collapsed": false
   },
   "outputs": [
    {
     "data": {
      "text/plain": [
       "float"
      ]
     },
     "execution_count": 5,
     "metadata": {},
     "output_type": "execute_result"
    }
   ],
   "source": [
    "b = 0.2\n",
    "type(b)"
   ]
  },
  {
   "cell_type": "code",
   "execution_count": 6,
   "metadata": {
    "collapsed": false
   },
   "outputs": [
    {
     "data": {
      "text/plain": [
       "str"
      ]
     },
     "execution_count": 6,
     "metadata": {},
     "output_type": "execute_result"
    }
   ],
   "source": [
    "c = \"abc\"\n",
    "type(c)"
   ]
  },
  {
   "cell_type": "markdown",
   "metadata": {},
   "source": [
    "## Lists\n",
    "*Lists* sú skupiny čísel, ktorých dĺžku možno meniť, napr. `a = [1,2,3]`\n",
    "\n",
    "Okrem toho existujú *tuples*, ktorých dĺžku nemožno meniť, napr. `a = (1, 2, 3)`\n"
   ]
  },
  {
   "cell_type": "code",
   "execution_count": null,
   "metadata": {
    "collapsed": true
   },
   "outputs": [],
   "source": [
    "# listy\n",
    "a = [1,2,3]\n",
    "print(a)\n",
    "b = [2,5]\n",
    "c = a + b\n",
    "# pozor na scitanie listov!\n",
    "print(a + b)\n",
    "#print(a-b)  # Error, vyskusajte"
   ]
  },
  {
   "cell_type": "code",
   "execution_count": 1,
   "metadata": {
    "collapsed": false
   },
   "outputs": [
    {
     "name": "stdout",
     "output_type": "stream",
     "text": [
      "[1, 2, 3]\n",
      "3\n",
      "6\n",
      "[1, 2, 3, 10]\n"
     ]
    }
   ],
   "source": [
    "a = [1, 2, 3]\n",
    "print(a)\n",
    "\n",
    "a[0]   # prvy element, cislovanie zacina nulou!\n",
    "a[-1]  # posledny element\n",
    "#a[3]   # Error: list index out of range\n",
    "\n",
    "# dlzka listov\n",
    "print(len(a))\n",
    "# suma clenov\n",
    "sum(a)\n",
    "print(sum(a))\n",
    "# pripoj dalsie cislo\n",
    "a.append(10)\n",
    "print(a)"
   ]
  },
  {
   "cell_type": "code",
   "execution_count": 56,
   "metadata": {
    "collapsed": false
   },
   "outputs": [
    {
     "name": "stdout",
     "output_type": "stream",
     "text": [
      "range(0, 10)\n",
      "[0, 1, 2, 3, 4, 5, 6, 7, 8, 9]\n",
      "10 45\n",
      "[1, 3, 5, 7, 9]\n",
      "[]\n",
      "[10, 9, 8, 7, 6, 5, 4, 3, 2]\n"
     ]
    }
   ],
   "source": [
    "# specificke listy\n",
    "r = range(10)\n",
    "print(r)\n",
    "print(list(r))\n",
    "print(len(r), sum(r))\n",
    "\n",
    "# rozne ine moznosti, vseobecna struktura\n",
    "# range(first, last, increment)\n",
    "print(list(range(1,10,2)))\n",
    "print(list(range(10,1)))    # prazdny list\n",
    "print(list(range(10,1,-1)))"
   ]
  },
  {
   "cell_type": "markdown",
   "metadata": {},
   "source": [
    "## For cyklus"
   ]
  },
  {
   "cell_type": "code",
   "execution_count": 62,
   "metadata": {
    "collapsed": false
   },
   "outputs": [
    {
     "name": "stdout",
     "output_type": "stream",
     "text": [
      "0\n",
      "1\n",
      "4\n",
      "9\n",
      "16\n",
      "25\n",
      "36\n",
      "49\n",
      "64\n",
      "81\n"
     ]
    }
   ],
   "source": [
    "for i in range(10):\n",
    "    print(i**2)"
   ]
  },
  {
   "cell_type": "code",
   "execution_count": 72,
   "metadata": {
    "collapsed": false
   },
   "outputs": [
    {
     "name": "stdout",
     "output_type": "stream",
     "text": [
      "a\n",
      "b\n",
      "c\n"
     ]
    }
   ],
   "source": [
    "for i in \"abc\":   # tlacit mozno aj stringy\n",
    "    print(i)"
   ]
  },
  {
   "cell_type": "markdown",
   "metadata": {},
   "source": [
    "## List comprehension\n",
    "Zjednodušený for cyklus v Pythone na jeden riadok."
   ]
  },
  {
   "cell_type": "code",
   "execution_count": 84,
   "metadata": {
    "collapsed": false
   },
   "outputs": [
    {
     "name": "stdout",
     "output_type": "stream",
     "text": [
      "[0, 1, 2, 3, 4, 5, 6, 7, 8, 9]\n",
      "[0, 1, 4, 9, 16, 25, 36, 49, 64, 81]\n",
      "[[0, 1, 2, 3, 4], [1, 2, 3, 4, 5], [2, 3, 4, 5, 6], [3, 4, 5, 6, 7], [4, 5, 6, 7, 8]]\n"
     ]
    },
    {
     "data": {
      "text/plain": [
       "4"
      ]
     },
     "execution_count": 84,
     "metadata": {},
     "output_type": "execute_result"
    }
   ],
   "source": [
    "a = [i for i in range(10)]\n",
    "print(a)\n",
    "b = [i*i for i in range(10)]\n",
    "print(b)\n",
    "A = [[i+j for i in range(5)] for j in range(5)]   # matica (list listov), len nie pekne zapisana\n",
    "print(A)\n",
    "A[1][3]   # pristup k jednotlivym prvkom matice"
   ]
  },
  {
   "cell_type": "markdown",
   "metadata": {},
   "source": [
    "## Funkcie\n",
    "Základný stavebný prvok programovacieho jazyka.\n",
    "\n",
    "Funkcie v Pythone môžu vracať viacero premenných (na rozdiel C/C++ a Fortranu)."
   ]
  },
  {
   "cell_type": "code",
   "execution_count": 9,
   "metadata": {
    "collapsed": true
   },
   "outputs": [],
   "source": [
    "def plus(a, b):\n",
    "    return a + b"
   ]
  },
  {
   "cell_type": "code",
   "execution_count": 10,
   "metadata": {
    "collapsed": false
   },
   "outputs": [
    {
     "name": "stdout",
     "output_type": "stream",
     "text": [
      "3\n",
      "2.2\n"
     ]
    }
   ],
   "source": [
    "print(plus(1, 2))\n",
    "print(plus(3.2, -1))"
   ]
  },
  {
   "cell_type": "code",
   "execution_count": 22,
   "metadata": {
    "collapsed": false
   },
   "outputs": [
    {
     "data": {
      "text/plain": [
       "9"
      ]
     },
     "execution_count": 22,
     "metadata": {},
     "output_type": "execute_result"
    }
   ],
   "source": [
    "# vo funkcii mozu byt defautlne premenne\n",
    "def plus2(a, b=2):\n",
    "    return a + b\n",
    "\n",
    "plus2(7)"
   ]
  },
  {
   "cell_type": "code",
   "execution_count": 15,
   "metadata": {
    "collapsed": true
   },
   "outputs": [],
   "source": [
    "# ciferny sucet, elegantne\n",
    "def cif_sucet(a):\n",
    "    return sum([int(i) for i in str(a)])"
   ]
  },
  {
   "cell_type": "code",
   "execution_count": 20,
   "metadata": {
    "collapsed": false
   },
   "outputs": [
    {
     "data": {
      "text/plain": [
       "6"
      ]
     },
     "execution_count": 20,
     "metadata": {},
     "output_type": "execute_result"
    }
   ],
   "source": [
    "cif_sucet(123)"
   ]
  },
  {
   "cell_type": "code",
   "execution_count": 21,
   "metadata": {
    "collapsed": false
   },
   "outputs": [
    {
     "data": {
      "text/plain": [
       "[2, 3, 4]"
      ]
     },
     "execution_count": 21,
     "metadata": {},
     "output_type": "execute_result"
    }
   ],
   "source": [
    "# co sme spravili?\n",
    "b = 234\n",
    "[int(i) for i in str(b)]"
   ]
  },
  {
   "cell_type": "markdown",
   "metadata": {},
   "source": [
    "***\n",
    "## Úloha\n",
    "V Prima Banke ponúkajú vklad s 5% úrokom. Ak budete počas jedného roka každý mesiac vkladať 50 eur, na konci mesiaca vám pribudne 5% z celkovej sumy, ktorú v tom čase máte na účte. Koľko eur na konci roka zarobíte?\n",
    "***"
   ]
  },
  {
   "cell_type": "markdown",
   "metadata": {},
   "source": [
    "## Komplexné čísla"
   ]
  },
  {
   "cell_type": "code",
   "execution_count": 3,
   "metadata": {
    "collapsed": false
   },
   "outputs": [
    {
     "name": "stdout",
     "output_type": "stream",
     "text": [
      "(1+2j)\n"
     ]
    }
   ],
   "source": [
    "z = 1 + 2j\n",
    "print(z)"
   ]
  },
  {
   "cell_type": "code",
   "execution_count": 25,
   "metadata": {
    "collapsed": false
   },
   "outputs": [
    {
     "data": {
      "text/plain": [
       "(-3+4j)"
      ]
     },
     "execution_count": 25,
     "metadata": {},
     "output_type": "execute_result"
    }
   ],
   "source": [
    "z*z"
   ]
  },
  {
   "cell_type": "code",
   "execution_count": 27,
   "metadata": {
    "collapsed": false
   },
   "outputs": [
    {
     "data": {
      "text/plain": [
       "(1-2j)"
      ]
     },
     "execution_count": 27,
     "metadata": {},
     "output_type": "execute_result"
    }
   ],
   "source": [
    "z.conjugate()"
   ]
  },
  {
   "cell_type": "code",
   "execution_count": 28,
   "metadata": {
    "collapsed": false
   },
   "outputs": [
    {
     "data": {
      "text/plain": [
       "1.0"
      ]
     },
     "execution_count": 28,
     "metadata": {},
     "output_type": "execute_result"
    }
   ],
   "source": [
    "z.real"
   ]
  },
  {
   "cell_type": "markdown",
   "metadata": {
    "collapsed": true
   },
   "source": [
    "## Podmienky"
   ]
  },
  {
   "cell_type": "code",
   "execution_count": 11,
   "metadata": {
    "collapsed": false,
    "scrolled": true
   },
   "outputs": [
    {
     "name": "stdout",
     "output_type": "stream",
     "text": [
      "a sa nerovna dva ani tri\n"
     ]
    }
   ],
   "source": [
    "a = 5\n",
    "if a == 2:\n",
    "    print(\"a sa rovna dva\")\n",
    "elif a == 3:\n",
    "    print(\"a sa rovna tri\")\n",
    "else:\n",
    "    print(\"a sa nerovna dva ani tri\")"
   ]
  },
  {
   "cell_type": "code",
   "execution_count": null,
   "metadata": {
    "collapsed": true
   },
   "outputs": [],
   "source": []
  }
 ],
 "metadata": {
  "kernelspec": {
   "display_name": "Python 3",
   "language": "python",
   "name": "python3"
  },
  "language_info": {
   "codemirror_mode": {
    "name": "ipython",
    "version": 3
   },
   "file_extension": ".py",
   "mimetype": "text/x-python",
   "name": "python",
   "nbconvert_exporter": "python",
   "pygments_lexer": "ipython3",
   "version": "3.4.3"
  }
 },
 "nbformat": 4,
 "nbformat_minor": 0
}
