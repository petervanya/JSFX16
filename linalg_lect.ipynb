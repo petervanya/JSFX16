{
 "cells": [
  {
   "cell_type": "markdown",
   "metadata": {},
   "source": [
    "# Lineárna algebra\n",
    "\n",
    "## Čo to je?\n",
    "* Sústavy rovníc\n",
    "* Matice, vektory\n",
    "* Báza, dimenzia, hodnosť\n",
    "* Vlastné čísla (kvantová mechanika)\n",
    "\n",
    "## Načo to je dobré?\n",
    "* Fyzika (samozrejme)\n",
    "* Strojové učenie"
   ]
  },
  {
   "cell_type": "markdown",
   "metadata": {},
   "source": [
    "# 1. Sústava rovníc\n",
    "Majme nasledovné rovnice pre tri neznáme $x, y, z$:\n",
    "\n",
    "\\begin{align}\n",
    "x + y = 1,\\\\\n",
    "y + z = 2,\\\\\n",
    "x + z = 4.\\\\\n",
    "\\end{align}\n",
    "\n",
    "Aké je riešenie?\n",
    "\n",
    "Teraz majme trochu inú sústavu rovníc:\n",
    "\n",
    "\\begin{align}\n",
    "x + y = 1,\\\\\n",
    "y + z = 2,\\\\\n",
    "x - z = -1.\\\\\n",
    "\\end{align}\n",
    "\n",
    "Aké je riešenie teraz?\n",
    "\n",
    "Ešte skúsme sústavu rovníc pre dve premenné $x,y$:\n",
    "\n",
    "\\begin{align}\n",
    "x + y = 1,\\\\\n",
    "x - y = 2,\\\\\n",
    "x + 2y = 0.\\\\\n",
    "\\end{align}\n",
    "\n",
    "Čo sme sa naučili?\n",
    "\n",
    "## Teraz niečo komplikovanejšie\n",
    "\\begin{align}\n",
    "x + y - z & = 4,\\\\\n",
    "x - 2y + z &= -4,\\\\\n",
    "2x - y + 3z &= -3.\\\\\n",
    "\\end{align}\n",
    "\n",
    "Ako na to systematicky? Gaussova eliminačná metóda!"
   ]
  },
  {
   "cell_type": "code",
   "execution_count": 8,
   "metadata": {
    "collapsed": false
   },
   "outputs": [
    {
     "name": "stdout",
     "output_type": "stream",
     "text": [
      "[[ 1  1 -1]\n",
      " [ 1 -2  1]\n",
      " [ 2 -1  3]]\n"
     ]
    },
    {
     "data": {
      "text/plain": [
       "array([ 1.,  2., -1.])"
      ]
     },
     "execution_count": 8,
     "metadata": {},
     "output_type": "execute_result"
    }
   ],
   "source": [
    "import numpy as np\n",
    "A = [[1, 1, -1],[1, -2, 1],[2, -1, 3]]\n",
    "print(np.matrix(A))\n",
    "b = [4, -4, -3]\n",
    "np.linalg.solve(A, b)"
   ]
  },
  {
   "cell_type": "markdown",
   "metadata": {},
   "source": [
    "## 2. Čo v praxi?\n",
    "Poissonova rovnica!\n",
    "$$ \\nabla^2 \\phi = -\\frac Q {\\varepsilon_0}$$\n",
    "kde $\\phi$ je elektrický potenciál a $Q$ náboj. V 1D\n",
    "$$ \\frac{d^2 \\phi}{dx^2} = -\\frac Q {\\varepsilon_0} $$\n",
    "\n",
    "Numericky je $\\phi$ vektor a operátor derivácie sa dá redukovať na maticu:\n",
    "$$ \\frac{d^2f(x)}{dx^2} = \\frac{f(x+h) - 2f(x) + f(x-h)}{h^2} $$\n",
    "\n",
    "$\\phi = (\\phi_1, \\phi_2, ..., \\phi_N}$ a teda\n",
    "$$\\frac{d^2 \\phi_i}{dx^2} = \\frac{\\phi_{i+1} - \\phi_i + \\phi_{i-1}}{h^2} $$\n",
    "\n",
    "Ako vyzerá matica derivácie $D$?\n",
    "\n",
    "$$ D = \\frac 1 {h^2} \n",
    "\\left(\n",
    "\\begin{array}{ccccc}\n",
    "-2 & 1 &   &   & 1   \\\\\n",
    "1 & -2 & 1 &   &     \\\\\n",
    "  &    & \\ddots & &  \\\\\n",
    "  &    & 1 & -2 & 1  \\\\\n",
    "1 &    &   & 1  & -2 \\\\\n",
    "\\end{array}\n",
    "\\right) $$\n",
    "\n",
    "Riešime systém ($\\varepsilon_0$ nech je 1) \n",
    "$$D \\phi = -Q .$$"
   ]
  },
  {
   "cell_type": "code",
   "execution_count": 37,
   "metadata": {
    "collapsed": false
   },
   "outputs": [
    {
     "data": {
      "image/png": "[encoded data removed]",
      "text/plain": [
       "<matplotlib.figure.Figure at 0x7fdec3e18c88>"
      ]
     },
     "metadata": {},
     "output_type": "display_data"
    }
   ],
   "source": [
    "%matplotlib inline\n",
    "N = 30\n",
    "Q = np.zeros(N)\n",
    "Q[N//3] = 1.0\n",
    "Q[2*N//3] = 2.0\n",
    "D = np.diag(-2*np.ones(N)) + np.diag(np.ones(N-1), -1) + np.diag(np.ones(N-1), 1)\n",
    "#D[0, N-1] = D[N-1, 0] = 1\n",
    "\n",
    "phi = np.linalg.solve(D, -Q)\n",
    "plt.plot(phi)\n",
    "plt.xlabel(\"$x$\")\n",
    "plt.ylabel(\"$\\phi$\")\n",
    "plt.show()"
   ]
  },
  {
   "cell_type": "markdown",
   "metadata": {},
   "source": [
    "## Čo sme sa naučili?\n",
    "\n",
    "Premyslite si, ako by ste to riešili v 2D!\n",
    "\n",
    "Diferenciálne rovnice s okrajovými podmienkami sa v počítači prevádzajú na sústavy lineárnych rovníc.\n",
    "Tie potom chceme čo najefektívnejšie vyriešiť. Zostáva nám už len nájsť tú správnu metódu spomedzi:\n",
    "\n",
    "* Gaussovej eliminácie\n",
    "* LU dekompozície\n",
    "* QR faktorizácie\n",
    "* Hausholderovej rotácie\n",
    "* ...\n",
    "\n",
    "Koho to zaujíma viac, nech sa zapíše na MPhil in Scientific Computing!"
   ]
  },
  {
   "cell_type": "markdown",
   "metadata": {
    "collapsed": true
   },
   "source": [
    "# 3. Báza, dimenzia\n",
    "\n",
    "V báze \n",
    "\\begin{align}\n",
    "e_1 = (1,0,0)\\\\\n",
    "e_2 = (0,1,0)\\\\\n",
    "e_3=(0,0,1)\n",
    "\\end{align}\n",
    "máme vektor $v= (1,2,3)$. Ako tento vektor vyzerá v tejto bázi?\n",
    "\\begin{align}\n",
    "u_1 = (1,1,0)\\\\\n",
    "u_2 = (0,1,1)\\\\\n",
    "u_3 = (1,0,1)\n",
    "\\end{align}\n",
    "\n",
    "[Hint: nájdite $\\alpha, \\beta, \\gamma$ také, že $v = \\alpha u_1 + \\beta u_2 + \\gamma u_3$.]"
   ]
  },
  {
   "cell_type": "markdown",
   "metadata": {},
   "source": [
    "# 4. Vektorový priestor\n",
    "\n",
    "Začnime tvrdo:\n",
    "## Axiómy vektorového priestoru\n",
    "Pre prvky vektorového priestoru $a, b$ platia nasledovné pravidlá:\n",
    "1. $a \\oplus b = b \\oplus a$\n",
    "2. $a + (b + c) = (a + b) + c$\n",
    "3. Existuje nulový vektor: $a + 0 = a$\n",
    "4. Pre každý vektor $a$ existuje vektor opačný $b$: $a + b = 0$\n",
    "5. $\\alpha \\odot(\\beta \\odot a) = (\\alpha \\odot \\beta) \\odot a$\n",
    "6. $1 \\odot a = a$\n",
    "7. $(\\alpha \\oplus \\beta) \\odot a = \\alpha \\odot a \\oplus \\beta \\odot a$\n",
    "8. $\\alpha \\odot (a \\oplus b) = (\\alpha \\odot a) \\oplus (\\alpha \\odot b)$\n",
    "\n",
    "## Príklady vektorových priestorov\n",
    "* vektory, napr. $a = (1, 2, 3)$\n",
    "* matice\n",
    "* polynómy, napr. $p(x) = 1 + 2x + 3x^2$"
   ]
  },
  {
   "cell_type": "code",
   "execution_count": null,
   "metadata": {
    "collapsed": true
   },
   "outputs": [],
   "source": []
  }
 ],
 "metadata": {
  "kernelspec": {
   "display_name": "Python 3",
   "language": "python",
   "name": "python3"
  },
  "language_info": {
   "codemirror_mode": {
    "name": "ipython",
    "version": 3
   },
   "file_extension": ".py",
   "mimetype": "text/x-python",
   "name": "python",
   "nbconvert_exporter": "python",
   "pygments_lexer": "ipython3",
   "version": "3.4.3"
  }
 },
 "nbformat": 4,
 "nbformat_minor": 0
}
