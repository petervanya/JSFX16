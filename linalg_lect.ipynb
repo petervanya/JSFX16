{
 "cells": [
  {
   "cell_type": "markdown",
   "metadata": {},
   "source": [
    "# Lineárna algebra\n",
    "\n",
    "## Čo to je?\n",
    "* Sústavy rovníc\n",
    "* Matice, vektory\n",
    "* Báza, dimenzia, hodnosť\n",
    "* Vlastné čísla (QM)\n",
    "\n",
    "## Načo to je dobré?\n",
    "* Fyzika (samozrejme)\n",
    "* Strojové učenie"
   ]
  },
  {
   "cell_type": "markdown",
   "metadata": {},
   "source": [
    "# 1. Sústava rovníc\n",
    "Majme nasledovné rovnice pre tri neznáme $x, y, z$:\n",
    "\n",
    "\\begin{align}\n",
    "x + y = 1,\\\\\n",
    "y + z = 2,\\\\\n",
    "x + z = 4.\\\\\n",
    "\\end{align}\n",
    "\n",
    "Aké je riešenie?\n",
    "\n",
    "Teraz majme trochu inú sústavu rovníc:\n",
    "\n",
    "\\begin{align}\n",
    "x + y = 1,\\\\\n",
    "y + z = 2,\\\\\n",
    "x - z = -1.\\\\\n",
    "\\end{align}\n",
    "\n",
    "Aké je riešenie teraz?\n",
    "\n",
    "Ešte skúsme sústavu rovníc pre dve premenné $x,y$:\n",
    "\n",
    "\\begin{align}\n",
    "x + y = 1,\\\\\n",
    "x - y = 2,\\\\\n",
    "x + 2y = 0.\\\\\n",
    "\\end{align}\n",
    "\n",
    "Čo sme sa naučili?"
   ]
  },
  {
   "cell_type": "markdown",
   "metadata": {},
   "source": [
    "# 2. Vektorový priestor\n",
    "\n",
    "Začnime tvrdo:\n",
    "## Axiómy vektorového priestoru\n",
    "Pre prvky vektorového priestoru $a, b$ platia nasledovné pravidlá:\n",
    "1. $a \\oplus b = b \\oplus a$\n",
    "2. $a + (b + c) = (a + b) + c$\n",
    "3. Existuje nulový vektor: $a + 0 = a$\n",
    "4. Pre každý vektor $a$ existuje vektor opačný $b$: $a + b = 0$\n",
    "5. $\\alpha \\odot(\\beta \\odot a) = (\\alpha \\odot \\beta) \\odot a$\n",
    "6. $1 \\odot a = a$\n",
    "7. $(\\alpha \\oplus \\beta) \\odot a = \\alpha \\odot a \\oplus \\beta \\odot a$\n",
    "8. $\\alpha \\odot (a \\oplus b) = (\\alpha \\odot a) \\oplus (\\alpha \\odot b)$\n",
    "\n",
    "## Príklady vektorových priestorov\n",
    "* vektory, napr. $a = (1, 2, 3)$\n",
    "* matice\n",
    "* polynómy, napr. $p(x) = 1 + 2x + 3x^2$"
   ]
  },
  {
   "cell_type": "markdown",
   "metadata": {
    "collapsed": true
   },
   "source": [
    "# 3. Báza, dimenzia\n",
    "\n",
    "V báze \n",
    "\\begin{align}\n",
    "e_1 = (1,0,0)\\\\\n",
    "e_2 = (0,1,0)\\\\\n",
    "e_3=(0,0,1)\n",
    "\\end{align}\n",
    "máme vektor $v= (1,2,3)$. Ako tento vektor vyzerá v tejto bázi?\n",
    "\\begin{align}\n",
    "u_1 = (1,1,0)\\\\\n",
    "u_2 = (0,1,1)\\\\\n",
    "u_3 = (1,0,1)\n",
    "\\end{align}\n",
    "\n",
    "[Hint: nájdite $\\alpha, \\beta, \\gamma$ také, že $v = \\alpha u_1 + \\beta u_2 + \\gamma u_3$.]"
   ]
  },
  {
   "cell_type": "code",
   "execution_count": null,
   "metadata": {
    "collapsed": true
   },
   "outputs": [],
   "source": []
  }
 ],
 "metadata": {
  "kernelspec": {
   "display_name": "Python 3",
   "language": "python",
   "name": "python3"
  },
  "language_info": {
   "codemirror_mode": {
    "name": "ipython",
    "version": 3
   },
   "file_extension": ".py",
   "mimetype": "text/x-python",
   "name": "python",
   "nbconvert_exporter": "python",
   "pygments_lexer": "ipython3",
   "version": "3.4.3"
  }
 },
 "nbformat": 4,
 "nbformat_minor": 0
}
